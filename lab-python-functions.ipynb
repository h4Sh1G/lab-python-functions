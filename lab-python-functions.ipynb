{
 "cells": [
  {
   "attachments": {},
   "cell_type": "markdown",
   "id": "25d7736c-ba17-4aff-b6bb-66eba20fbf4e",
   "metadata": {},
   "source": [
    "# Lab | Functions"
   ]
  },
  {
   "attachments": {},
   "cell_type": "markdown",
   "id": "0c581062-8967-4d93-b06e-62833222f930",
   "metadata": {
    "tags": []
   },
   "source": [
    "## Exercise: Managing Customer Orders with Functions\n",
    "\n",
    "In the previous exercise, you improved the code for managing customer orders by using loops and flow control. Now, let's take it a step further and refactor the code by introducing functions.\n",
    "\n",
    "Follow the steps below to complete the exercise:\n",
    "\n",
    "1. Define a function named `initialize_inventory` that takes `products` as a parameter. Inside the function, implement the code for initializing the inventory dictionary using a loop and user input.\n",
    "\n",
    "2. Define a function named `get_customer_orders` that takes no parameters. Inside the function, implement the code for prompting the user to enter the product names using a loop. The function should return the `customer_orders` set.\n",
    "\n",
    "3. Define a function named `update_inventory` that takes `customer_orders` and `inventory` as parameters. Inside the function, implement the code for updating the inventory dictionary based on the customer orders.\n",
    "\n",
    "4. Define a function named `calculate_order_statistics` that takes `customer_orders` and `products` as parameters. Inside the function, implement the code for calculating the order statistics (total products ordered, and percentage of unique products ordered). The function should return these values.\n",
    "\n",
    "5. Define a function named `print_order_statistics` that takes `order_statistics` as a parameter. Inside the function, implement the code for printing the order statistics.\n",
    "\n",
    "6. Define a function named `print_updated_inventory` that takes `inventory` as a parameter. Inside the function, implement the code for printing the updated inventory.\n",
    "\n",
    "7. Call the functions in the appropriate sequence to execute the program and manage customer orders.\n",
    "\n",
    "Hints for functions:\n",
    "\n",
    "- Consider the input parameters required for each function and their return values.\n",
    "- Utilize function parameters and return values to transfer data between functions.\n",
    "- Test your functions individually to ensure they work correctly.\n",
    "\n",
    "\n"
   ]
  },
  {
   "cell_type": "code",
   "execution_count": 32,
   "id": "f292a255",
   "metadata": {},
   "outputs": [
    {
     "name": "stdout",
     "output_type": "stream",
     "text": [
      "{'t-shirt': 5, 'mug': 5, 'hat': 5, 'book': 5, 'keychain': 5}\n"
     ]
    }
   ],
   "source": [
    "#1\n",
    "\n",
    "products = ['t-shirt', 'mug', 'hat', 'book', 'keychain'];\n",
    "\n",
    "inventory = {};\n",
    "\n",
    "def initialize_inventory(products):\n",
    "    for product in products:\n",
    "        while True:\n",
    "            values = int(input(f\"Enter the amount for {product}: \"))\n",
    "            if values >= 0:\n",
    "                inventory[product] = int(values)\n",
    "                break\n",
    "    return inventory\n",
    "\n",
    "inventory = initialize_inventory(products)\n",
    "print(inventory)      "
   ]
  },
  {
   "cell_type": "code",
   "execution_count": 37,
   "id": "db4453b5",
   "metadata": {},
   "outputs": [
    {
     "data": {
      "text/plain": [
       "{'hat', 'keychain', 'mug'}"
      ]
     },
     "execution_count": 37,
     "metadata": {},
     "output_type": "execute_result"
    }
   ],
   "source": [
    "#2\n",
    "\n",
    "def get_customer_orders():\n",
    "    customer_orders = set()\n",
    "    while True:\n",
    "        customer_order = input(f\"From {products}, which product do you wish to order? \")\n",
    "        if customer_order in products:\n",
    "            customer_orders.add(customer_order)\n",
    "            another = input(\"Do you wish to order a different product? (Yes/No) \").strip().lower()\n",
    "            if another != 'yes':\n",
    "                break\n",
    "        else:\n",
    "            print(\"Input error, please try again!\")\n",
    "\n",
    "    return customer_orders\n",
    "\n",
    "get_customer_orders()\n"
   ]
  },
  {
   "cell_type": "code",
   "execution_count": 41,
   "id": "c6c2db28",
   "metadata": {},
   "outputs": [
    {
     "name": "stdout",
     "output_type": "stream",
     "text": [
      "{'t-shirt': 4, 'mug': 4, 'hat': 3, 'book': 5, 'keychain': 5}\n"
     ]
    }
   ],
   "source": [
    "#3\n",
    "\n",
    "def update_inventory(customer_orders, inventory):\n",
    "    for product in customer_orders:\n",
    "        if product in inventory:\n",
    "            inventory[product] -= 1\n",
    "            if inventory[product] < 0:\n",
    "                print(f\"We have no stock for {product}\")\n",
    "        else:\n",
    "            print(f\"Such {product} doesn't exist in the inventory. \")\n",
    "    \n",
    "    return inventory\n",
    "\n",
    "customer_orders = get_customer_orders()\n",
    "updated_inventory = update_inventory(customer_orders, inventory)\n",
    "\n",
    "print(updated_inventory)        "
   ]
  },
  {
   "cell_type": "code",
   "execution_count": 43,
   "id": "10ee4ee8",
   "metadata": {},
   "outputs": [
    {
     "data": {
      "text/plain": [
       "(2, 40.0)"
      ]
     },
     "execution_count": 43,
     "metadata": {},
     "output_type": "execute_result"
    }
   ],
   "source": [
    "#4\n",
    "\n",
    "def calculate_order_statistics(customer_orders, products):\n",
    "    total_products_ord = len(customer_orders)\n",
    "    products_ord = len(set(customer_orders))\n",
    "    total_possible_products = len(products)\n",
    "\n",
    "    percentage_products_ord = (products_ord/total_possible_products)*100\n",
    "\n",
    "    return total_products_ord, percentage_products_ord\n",
    "\n",
    "\n",
    "calculate_order_statistics(customer_orders, products)  \n",
    "    "
   ]
  },
  {
   "cell_type": "code",
   "execution_count": 52,
   "id": "bee4a111",
   "metadata": {},
   "outputs": [
    {
     "name": "stdout",
     "output_type": "stream",
     "text": [
      "(2, 40.0)\n"
     ]
    }
   ],
   "source": [
    "#5\n",
    "\n",
    "total_products_ord = len(customer_orders)\n",
    "products_ord = len(set(customer_orders))\n",
    "total_possible_products = len(products)\n",
    "\n",
    "percentage_products_ord = (products_ord/total_possible_products)*100\n",
    "\n",
    "order_statistics = (total_products_ord, percentage_products_ord)\n",
    "\n",
    "\n",
    "def print_order_statistics(order_statistics):\n",
    "    print(order_statistics)\n",
    "\n",
    "print_order_statistics(order_statistics)\n"
   ]
  },
  {
   "cell_type": "code",
   "execution_count": 54,
   "metadata": {},
   "outputs": [
    {
     "name": "stdout",
     "output_type": "stream",
     "text": [
      "{'t-shirt': 4, 'mug': 4, 'hat': 3, 'book': 5, 'keychain': 5}\n"
     ]
    }
   ],
   "source": [
    "#6\n",
    "\n",
    "def print_updated_inventory(inventory):\n",
    "    print(updated_inventory)\n",
    "\n",
    "print_updated_inventory(inventory)"
   ]
  },
  {
   "cell_type": "code",
   "execution_count": 55,
   "id": "2ea0daf7",
   "metadata": {},
   "outputs": [
    {
     "name": "stdout",
     "output_type": "stream",
     "text": [
      "(2, 40.0)\n",
      "{'t-shirt': 4, 'mug': 5, 'hat': 4, 'book': 5, 'keychain': 5}\n"
     ]
    }
   ],
   "source": [
    "#7\n",
    "\n",
    "initialize_inventory(products)\n",
    "\n",
    "get_customer_orders()\n",
    "\n",
    "update_inventory(customer_orders, inventory)\n",
    "\n",
    "calculate_order_statistics(customer_orders, products)\n",
    "\n",
    "print_order_statistics(order_statistics)\n",
    "\n",
    "print_updated_inventory(inventory)"
   ]
  }
 ],
 "metadata": {
  "kernelspec": {
   "display_name": "Python 3 (ipykernel)",
   "language": "python",
   "name": "python3"
  },
  "language_info": {
   "codemirror_mode": {
    "name": "ipython",
    "version": 3
   },
   "file_extension": ".py",
   "mimetype": "text/x-python",
   "name": "python",
   "nbconvert_exporter": "python",
   "pygments_lexer": "ipython3",
   "version": "3.11.7"
  }
 },
 "nbformat": 4,
 "nbformat_minor": 5
}
